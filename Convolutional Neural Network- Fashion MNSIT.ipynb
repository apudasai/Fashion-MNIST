{
 "cells": [
  {
   "cell_type": "markdown",
   "id": "6b3befaf",
   "metadata": {},
   "source": [
    "Fashion MNSIT is available in tensorflow database.  It's total of 70000 data- with 60000 training data and 10000 test data.  It has 10 labels to identify \"T-shirt/top\", \"Trouser\", \"Pullover\", \"Dress\", \"Coat\", \"Sandal\", \"Shirt\", \"Sneaker\", \"Bag\", \"Ankle Boot\".  Used Convolution Neural Network (CNN) using Tensorflow framework to fit the training data, evaluated using test data.  Accuracy from training is 98% and from test is 90%.  Only used 1 layer with 128 neurons."
   ]
  },
  {
   "cell_type": "code",
   "execution_count": 1,
   "id": "70955b1e",
   "metadata": {},
   "outputs": [
    {
     "data": {
      "text/plain": [
       "'2.3.0'"
      ]
     },
     "execution_count": 1,
     "metadata": {},
     "output_type": "execute_result"
    }
   ],
   "source": [
    "# libraries\n",
    "import tensorflow as tf\n",
    "import matplotlib.pyplot as plt\n",
    "tf.__version__"
   ]
  },
  {
   "cell_type": "code",
   "execution_count": 2,
   "id": "4f78924e",
   "metadata": {},
   "outputs": [],
   "source": [
    "#importing fashion_mnist data set.\n",
    "from tensorflow.keras.datasets import fashion_mnist\n",
    "(X_train, y_train), (X_test, y_test) = fashion_mnist.load_data()\n",
    "X_train = X_train.reshape(60000,28,28,1)  # need to convert into a single 4D list that is 60,0000x28x28x1 for Convolutions\n",
    "X_test = X_test.reshape(10000, 28, 28,1)  # same reason as above.\n",
    "X_train = X_train / 255.0 # Normalizing\n",
    "X_test = X_test / 255.0 # Normalizing"
   ]
  },
  {
   "cell_type": "code",
   "execution_count": 3,
   "id": "c17a7ff9",
   "metadata": {},
   "outputs": [
    {
     "data": {
      "text/plain": [
       "<tensorflow.python.keras.callbacks.History at 0x18e5914b490>"
      ]
     },
     "execution_count": 3,
     "metadata": {},
     "output_type": "execute_result"
    }
   ],
   "source": [
    "# Build a model\n",
    "\n",
    "#1. Set a random seed\n",
    "tf.random.set_seed(42)\n",
    "\n",
    "#2. Create the model\n",
    "model_1 = tf.keras.Sequential([\n",
    "    tf.keras.layers.Conv2D(64, (3,3), activation = 'relu', input_shape = (28,28,1)),\n",
    "    tf.keras.layers.MaxPool2D(2,2),\n",
    "    tf.keras.layers.Conv2D(64, (3,3), activation = 'relu'),\n",
    "    tf.keras.layers.MaxPool2D(2,2),  # codes above to do convolution (that higlights image) and pooling to compress the image.\n",
    "    tf.keras.layers.Flatten(),\n",
    "    tf.keras.layers.Dense(128, activation = 'relu'),\n",
    "    tf.keras.layers.Dense(10, activation = tf.keras.activations.softmax)  # you could write like this to activate relu.\n",
    "    \n",
    "])\n",
    "\n",
    "#3. Compile the model\n",
    "model_1.compile(loss = tf.keras.losses.SparseCategoricalCrossentropy(),\n",
    "               optimizer= tf.keras.optimizers.Adam(),\n",
    "               metrics = ['accuracy'])\n",
    "\n",
    "#4. Fit the model\n",
    "model_1.fit(X_train, y_train, epochs = 20, verbose=0)"
   ]
  },
  {
   "cell_type": "code",
   "execution_count": 4,
   "id": "89b8e34c",
   "metadata": {},
   "outputs": [
    {
     "name": "stdout",
     "output_type": "stream",
     "text": [
      "313/313 [==============================] - 3s 11ms/step - loss: 0.5502 - accuracy: 0.9058\n"
     ]
    },
    {
     "data": {
      "text/plain": [
       "[0.5502061247825623, 0.9057999849319458]"
      ]
     },
     "execution_count": 4,
     "metadata": {},
     "output_type": "execute_result"
    }
   ],
   "source": [
    "#5. Evalute\n",
    "model_1.evaluate(X_test, y_test)"
   ]
  },
  {
   "cell_type": "code",
   "execution_count": 5,
   "id": "aa6ee123",
   "metadata": {},
   "outputs": [],
   "source": [
    "#4 Predict\n",
    "y_probs = model_1.predict(X_test)"
   ]
  },
  {
   "cell_type": "code",
   "execution_count": 6,
   "id": "b7ef949a",
   "metadata": {},
   "outputs": [
    {
     "data": {
      "text/plain": [
       "array([6.0614719e-22, 2.2148587e-23, 4.4372892e-30, 1.1029163e-22,\n",
       "       4.7910852e-23, 1.1063964e-23, 1.8246934e-26, 1.0000000e+00,\n",
       "       6.0337680e-21, 1.0117074e-21], dtype=float32)"
      ]
     },
     "execution_count": 6,
     "metadata": {},
     "output_type": "execute_result"
    }
   ],
   "source": [
    "y_probs[9]"
   ]
  },
  {
   "cell_type": "code",
   "execution_count": 7,
   "id": "3e156567",
   "metadata": {},
   "outputs": [],
   "source": [
    "class_names = [\"T-shirt/top\", \"Trouser\", \"Pullover\", \"Dress\", \"Coat\", \"Sandal\", \"Shirt\", \"Sneaker\", \"Bag\", \"Ankle Boot\"]"
   ]
  },
  {
   "cell_type": "code",
   "execution_count": 8,
   "id": "44cb62be",
   "metadata": {},
   "outputs": [
    {
     "data": {
      "text/plain": [
       "'Sneaker'"
      ]
     },
     "execution_count": 8,
     "metadata": {},
     "output_type": "execute_result"
    }
   ],
   "source": [
    "class_names[tf.argmax(y_probs[9])]"
   ]
  },
  {
   "cell_type": "code",
   "execution_count": 9,
   "id": "af977335",
   "metadata": {},
   "outputs": [
    {
     "data": {
      "image/png": "[encoded data removed]",
      "text/plain": [
       "<Figure size 432x288 with 1 Axes>"
      ]
     },
     "metadata": {
      "needs_background": "light"
     },
     "output_type": "display_data"
    }
   ],
   "source": [
    "plt.imshow(X_test[9]);"
   ]
  },
  {
   "cell_type": "code",
   "execution_count": 10,
   "id": "4cdb0824",
   "metadata": {},
   "outputs": [
    {
     "name": "stdout",
     "output_type": "stream",
     "text": [
      "Model: \"sequential\"\n",
      "_________________________________________________________________\n",
      "Layer (type)                 Output Shape              Param #   \n",
      "=================================================================\n",
      "conv2d (Conv2D)              (None, 26, 26, 64)        640       \n",
      "_________________________________________________________________\n",
      "max_pooling2d (MaxPooling2D) (None, 13, 13, 64)        0         \n",
      "_________________________________________________________________\n",
      "conv2d_1 (Conv2D)            (None, 11, 11, 64)        36928     \n",
      "_________________________________________________________________\n",
      "max_pooling2d_1 (MaxPooling2 (None, 5, 5, 64)          0         \n",
      "_________________________________________________________________\n",
      "flatten (Flatten)            (None, 1600)              0         \n",
      "_________________________________________________________________\n",
      "dense (Dense)                (None, 128)               204928    \n",
      "_________________________________________________________________\n",
      "dense_1 (Dense)              (None, 10)                1290      \n",
      "=================================================================\n",
      "Total params: 243,786\n",
      "Trainable params: 243,786\n",
      "Non-trainable params: 0\n",
      "_________________________________________________________________\n"
     ]
    }
   ],
   "source": [
    "model_1.summary()"
   ]
  },
  {
   "cell_type": "code",
   "execution_count": null,
   "id": "69ec31dc",
   "metadata": {},
   "outputs": [],
   "source": []
  }
 ],
 "metadata": {
  "kernelspec": {
   "display_name": "Python 3",
   "language": "python",
   "name": "python3"
  },
  "language_info": {
   "codemirror_mode": {
    "name": "ipython",
    "version": 3
   },
   "file_extension": ".py",
   "mimetype": "text/x-python",
   "name": "python",
   "nbconvert_exporter": "python",
   "pygments_lexer": "ipython3",
   "version": "3.8.8"
  }
 },
 "nbformat": 4,
 "nbformat_minor": 5
}
